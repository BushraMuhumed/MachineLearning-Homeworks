{
 "cells": [
  {
   "cell_type": "code",
   "execution_count": 5,
   "id": "7f368cc1",
   "metadata": {},
   "outputs": [
    {
     "name": "stdout",
     "output_type": "stream",
     "text": [
      "Hello\n"
     ]
    }
   ],
   "source": [
    "var = 4\n",
    "st = \"Hello\"\n",
    "print(st)"
   ]
  },
  {
   "cell_type": "code",
   "execution_count": 2,
   "id": "2ba81054",
   "metadata": {},
   "outputs": [
    {
     "name": "stdout",
     "output_type": "stream",
     "text": [
      "4\n"
     ]
    }
   ],
   "source": [
    "print(var)"
   ]
  },
  {
   "cell_type": "markdown",
   "id": "33ada0d8",
   "metadata": {},
   "source": [
    "printing integer and string using print function"
   ]
  },
  {
   "cell_type": "code",
   "execution_count": 3,
   "id": "ba90de46",
   "metadata": {},
   "outputs": [
    {
     "data": {
      "text/plain": [
       "list"
      ]
     },
     "execution_count": 3,
     "metadata": {},
     "output_type": "execute_result"
    }
   ],
   "source": [
    "#list\n",
    "\n",
    "numbers = [2,4,7,21]\n",
    "type(numbers)"
   ]
  },
  {
   "cell_type": "markdown",
   "id": "8ed7abb1",
   "metadata": {},
   "source": [
    "making list and than by using type method you could learn what type it is"
   ]
  },
  {
   "cell_type": "code",
   "execution_count": 4,
   "id": "41389655",
   "metadata": {},
   "outputs": [
    {
     "data": {
      "text/plain": [
       "7"
      ]
     },
     "execution_count": 4,
     "metadata": {},
     "output_type": "execute_result"
    }
   ],
   "source": [
    "numbers[2]"
   ]
  },
  {
   "cell_type": "code",
   "execution_count": 5,
   "id": "a7e52851",
   "metadata": {},
   "outputs": [
    {
     "data": {
      "text/plain": [
       "[2, 4, 7, 21]"
      ]
     },
     "execution_count": 5,
     "metadata": {},
     "output_type": "execute_result"
    }
   ],
   "source": [
    "numbers[0:4]"
   ]
  },
  {
   "cell_type": "code",
   "execution_count": 6,
   "id": "66c37274",
   "metadata": {},
   "outputs": [
    {
     "name": "stdout",
     "output_type": "stream",
     "text": [
      "[2, 4, 7, 21, 1]\n"
     ]
    }
   ],
   "source": [
    "numbers.append(1)\n",
    "print(numbers)"
   ]
  },
  {
   "cell_type": "code",
   "execution_count": 7,
   "id": "a481925b",
   "metadata": {},
   "outputs": [
    {
     "name": "stdout",
     "output_type": "stream",
     "text": [
      "[1, 21, 7, 4, 2]\n"
     ]
    }
   ],
   "source": [
    "numbers.reverse()\n",
    "print(numbers)"
   ]
  },
  {
   "cell_type": "markdown",
   "id": "761f80d7",
   "metadata": {},
   "source": [
    "printing the list in reverse order"
   ]
  },
  {
   "cell_type": "code",
   "execution_count": 8,
   "id": "f369427c",
   "metadata": {},
   "outputs": [],
   "source": [
    "numbers.remove(21)"
   ]
  },
  {
   "cell_type": "code",
   "execution_count": 9,
   "id": "b1a631f2",
   "metadata": {},
   "outputs": [
    {
     "name": "stdout",
     "output_type": "stream",
     "text": [
      "[1, 7, 4, 2]\n"
     ]
    }
   ],
   "source": [
    "print(numbers)"
   ]
  },
  {
   "cell_type": "code",
   "execution_count": 10,
   "id": "3a668015",
   "metadata": {},
   "outputs": [
    {
     "name": "stdout",
     "output_type": "stream",
     "text": [
      "[1, 2, 4, 7]\n"
     ]
    }
   ],
   "source": [
    "numbers.sort()\n",
    "print(numbers)"
   ]
  },
  {
   "cell_type": "markdown",
   "id": "1c1e41b0",
   "metadata": {},
   "source": [
    "using sort to sort the list in ascending"
   ]
  },
  {
   "cell_type": "code",
   "execution_count": 4,
   "id": "704b3914",
   "metadata": {},
   "outputs": [
    {
     "name": "stdout",
     "output_type": "stream",
     "text": [
      "0\n",
      "1\n",
      "2\n",
      "3\n",
      "4\n",
      "5\n"
     ]
    }
   ],
   "source": [
    "for i in range (6):\n",
    "   print(i)"
   ]
  },
  {
   "cell_type": "markdown",
   "id": "0c9326e6",
   "metadata": {},
   "source": [
    "It gives back a series of numbers that begin at zero increase by one and end just before the given numbe"
   ]
  },
  {
   "cell_type": "code",
   "execution_count": 4,
   "id": "2f171981",
   "metadata": {},
   "outputs": [
    {
     "name": "stdout",
     "output_type": "stream",
     "text": [
      "hi\n",
      "hi\n",
      "hi\n",
      "hi\n"
     ]
    }
   ],
   "source": [
    "i=0\n",
    "while i<=3:\n",
    "    print(\"hi\")\n",
    "    i=i+1"
   ]
  },
  {
   "cell_type": "code",
   "execution_count": 11,
   "id": "19c54ecb",
   "metadata": {},
   "outputs": [
    {
     "name": "stdout",
     "output_type": "stream",
     "text": [
      "13\n"
     ]
    }
   ],
   "source": [
    "def add (x,y):\n",
    "    s=x+y\n",
    "    print(s)\n",
    "add(7,6)"
   ]
  },
  {
   "cell_type": "markdown",
   "id": "a75baddf",
   "metadata": {},
   "source": [
    "def is used to define a function "
   ]
  }
 ],
 "metadata": {
  "kernelspec": {
   "display_name": "Python 3 (ipykernel)",
   "language": "python",
   "name": "python3"
  },
  "language_info": {
   "codemirror_mode": {
    "name": "ipython",
    "version": 3
   },
   "file_extension": ".py",
   "mimetype": "text/x-python",
   "name": "python",
   "nbconvert_exporter": "python",
   "pygments_lexer": "ipython3",
   "version": "3.9.13"
  }
 },
 "nbformat": 4,
 "nbformat_minor": 5
}
